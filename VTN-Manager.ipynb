{
 "cells": [
  {
   "cell_type": "code",
   "execution_count": 88,
   "metadata": {},
   "outputs": [
    {
     "data": {
      "text/plain": [
       "'\\nInstall this features first in odl:\\nfeature:install odl-mdsal-clustering\\nfeature:install odl-restconf\\nfeature:install odl-mdsal-apidocs\\nfeature:install odl-vtn-manager\\n'"
      ]
     },
     "execution_count": 88,
     "metadata": {},
     "output_type": "execute_result"
    }
   ],
   "source": [
    "'''\n",
    "Install this features first in odl:\n",
    "feature:install odl-mdsal-clustering\n",
    "feature:install odl-restconf\n",
    "feature:install odl-mdsal-apidocs\n",
    "feature:install odl-vtn-manager\n",
    "'''"
   ]
  },
  {
   "cell_type": "code",
   "execution_count": 83,
   "metadata": {},
   "outputs": [],
   "source": [
    "import requests\n",
    "import logging\n",
    "import json\n",
    "\n",
    "class ODLClient(object):\n",
    "    def __init__(self, endpoint, credentials=('admin', 'admin')):\n",
    "        if endpoint[-1] == '/':\n",
    "            endpoint = endpoint[0:-1]\n",
    "        self.endpoint = '{}{}'.format(endpoint, '/restconf')\n",
    "        self.credentials = credentials\n",
    "        self.auth = (credentials[0], credentials[1])\n",
    "    \n",
    "    def request(self, path=None, method='GET', **params):\n",
    "        url = '{}{}'.format(self.endpoint, path)\n",
    "        response = requests.request(\n",
    "            method=method, url=url, params=params, auth=self.auth)\n",
    "        try:\n",
    "            return response.json()\n",
    "        except:\n",
    "            return response.text\n",
    "    def get_vtns(self, **params):\n",
    "        path = \"/operational/vtn:vtns\"\n",
    "        url = '{}{}'.format(self.endpoint, path)\n",
    "        response = requests.get(url, params=params, auth=self.auth)\n",
    "        try:\n",
    "            return response.json()\n",
    "        except:\n",
    "            return response.text\n",
    "    \n",
    "    def create_vtn(self, name, **params):\n",
    "        data = {\"input\":{\"tenant-name\": name}}\n",
    "        path = \"/operations/vtn:update-vtn\"\n",
    "        url = '{}{}'.format(self.endpoint, path)\n",
    "        headers = {'content-type': 'application/json'}\n",
    "        response = requests.post(url, params=params, data=json.dumps(data), auth=self.auth,headers=headers)\n",
    "        try:\n",
    "            return response.json()\n",
    "        except:\n",
    "            return response.text\n",
    "   \n",
    "    def delete_vtn(self, name, **params):\n",
    "        data = {\"input\":{\"tenant-name\": name}}\n",
    "        path = \"/operations/vtn:remove-vtn\"\n",
    "        url = '{}{}'.format(self.endpoint, path)\n",
    "        headers = {'content-type': 'application/json'}\n",
    "        response = requests.post(url, params=params, data=json.dumps(data), auth=self.auth,headers=headers)\n",
    "        try:\n",
    "            return response.json()\n",
    "        except:\n",
    "            return response.text\n",
    "\n",
    "    def create_vBridge(self, vBridgeName, vtnName, **params):\n",
    "        data = {\"input\":{\"tenant-name\": vtnName, \"bridge-name\":vBridgeName}}\n",
    "        path = \"/operations/vtn-vbridge:update-vbridge\"\n",
    "        url = '{}{}'.format(self.endpoint, path)\n",
    "        headers = {'content-type': 'application/json'}\n",
    "        response = requests.post(url, params=params, data=json.dumps(data), auth=self.auth,headers=headers)\n",
    "        try:\n",
    "            return response.json()\n",
    "        except:\n",
    "            return response.text\n",
    "    \n",
    "    def create_vInterface(self, vInterfaceName, vBridgeName, vtnName, **params):\n",
    "        data = {\"input\":{\"tenant-name\": vtnName, \"bridge-name\":vBridgeName, \"interface-name\": vInterfaceName}}\n",
    "        path = \"/operations/vtn-vinterface:update-vinterface\"\n",
    "        url = '{}{}'.format(self.endpoint, path)\n",
    "        headers = {'content-type': 'application/json'}\n",
    "        response = requests.post(url, params=params, data=json.dumps(data), auth=self.auth,headers=headers)\n",
    "        try:\n",
    "            return response.json()\n",
    "        except:\n",
    "            return response.text\n",
    "    \n",
    "    def create_vtnPortMap(self, vtnPortMap, node, vInterfaceName, vBridgeName, vtnName, **params):\n",
    "        data = {\"input\":{\"tenant-name\": vtnName, \n",
    "                         \"bridge-name\":vBridgeName, \n",
    "                         \"interface-name\": vInterfaceName,\n",
    "                         \"node\": node,\n",
    "                         \"port-name\": vtnPortMap}}\n",
    "        path = \"/operations/vtn-port-map:set-port-map\"\n",
    "        url = '{}{}'.format(self.endpoint, path)\n",
    "        headers = {'content-type': 'application/json'}\n",
    "        response = requests.post(url, params=params, data=json.dumps(data), auth=self.auth,headers=headers)\n",
    "        try:\n",
    "            return response.json()\n",
    "        except:\n",
    "            return response.text"
   ]
  },
  {
   "cell_type": "code",
   "execution_count": 98,
   "metadata": {},
   "outputs": [
    {
     "data": {
      "text/plain": [
       "{'output': {'status': 'CREATED'}}"
      ]
     },
     "execution_count": 98,
     "metadata": {},
     "output_type": "execute_result"
    }
   ],
   "source": [
    "#Create Hexagon VTN net (h7, h11 y h27)\n",
    "odl = ODLClient(\"http://localhost:8181\")\n",
    "odl.create_vtn(\"hexagon\")\n",
    "odl.create_vBridge(\"vbr1\", \"hexagon\")\n",
    "odl.create_vInterface(\"if1\", \"vbr1\", \"hexagon\")\n",
    "odl.create_vInterface(\"if2\", \"vbr1\", \"hexagon\")\n",
    "odl.create_vInterface(\"if3\", \"vbr1\", \"hexagon\")\n",
    "odl.create_vtnPortMap(\"sw8-eth2\", \"openflow:8\", \"if1\", \"vbr1\", \"hexagon\")\n",
    "odl.create_vtnPortMap(\"sw14-eth3\", \"openflow:14\", \"if2\", \"vbr1\", \"hexagon\")\n",
    "odl.create_vtnPortMap(\"sw27-eth2\", \"openflow:27\", \"if3\", \"vbr1\", \"hexagon\")"
   ]
  },
  {
   "cell_type": "code",
   "execution_count": 99,
   "metadata": {},
   "outputs": [
    {
     "data": {
      "text/plain": [
       "{'output': {'status': 'CREATED'}}"
      ]
     },
     "execution_count": 99,
     "metadata": {},
     "output_type": "execute_result"
    }
   ],
   "source": [
    "#Create Square VTN net (h5,h8,h2,h18,h27,h30,h34)\n",
    "odl = ODLClient(\"http://localhost:8181\")\n",
    "odl.create_vtn(\"square\")\n",
    "odl.create_vBridge(\"vbr2\", \"square\")\n",
    "odl.create_vInterface(\"if1\", \"vbr2\", \"square\")\n",
    "odl.create_vInterface(\"if2\", \"vbr2\", \"square\")\n",
    "odl.create_vInterface(\"if3\", \"vbr2\", \"square\")\n",
    "odl.create_vInterface(\"if4\", \"vbr2\", \"square\")\n",
    "odl.create_vInterface(\"if5\", \"vbr2\", \"square\")\n",
    "odl.create_vInterface(\"if6\", \"vbr2\", \"square\")\n",
    "odl.create_vInterface(\"if7\", \"vbr2\", \"square\")\n",
    "\n",
    "odl.create_vtnPortMap(\"sw7-eth2\", \"openflow:7\", \"if1\", \"vbr2\", \"square\")\n",
    "odl.create_vtnPortMap(\"sw12-eth2\", \"openflow:12\", \"if2\", \"vbr2\", \"square\")\n",
    "odl.create_vtnPortMap(\"sw4-eth2\", \"openflow:4\", \"if3\", \"vbr2\", \"square\")\n",
    "odl.create_vtnPortMap(\"sw19-eth2\", \"openflow:19\", \"if4\", \"vbr2\", \"square\")\n",
    "odl.create_vtnPortMap(\"sw31-eth2\", \"openflow:31\", \"if5\", \"vbr2\", \"square\")\n",
    "odl.create_vtnPortMap(\"sw33-eth2\", \"openflow:33\", \"if6\", \"vbr2\", \"square\")\n",
    "odl.create_vtnPortMap(\"sw36-eth2\", \"openflow:36\", \"if7\", \"vbr2\", \"square\")\n"
   ]
  },
  {
   "cell_type": "code",
   "execution_count": 100,
   "metadata": {},
   "outputs": [
    {
     "data": {
      "text/plain": [
       "{'vtns': {'vtn': [{'name': 'hexagon',\n",
       "    'vbridge': [{'bridge-status': {'path-faults': 0, 'state': 'UP'},\n",
       "      'name': 'vbr1',\n",
       "      'vbridge-config': {'age-interval': 600},\n",
       "      'vinterface': [{'name': 'if3',\n",
       "        'port-map-config': {'node': 'openflow:27',\n",
       "         'port-name': 'sw27-eth2',\n",
       "         'vlan-id': 0},\n",
       "        'vinterface-config': {'enabled': True},\n",
       "        'vinterface-status': {'entity-state': 'UP',\n",
       "         'mapped-port': 'openflow:27:2',\n",
       "         'state': 'UP'}},\n",
       "       {'name': 'if2',\n",
       "        'port-map-config': {'node': 'openflow:14',\n",
       "         'port-name': 'sw14-eth3',\n",
       "         'vlan-id': 0},\n",
       "        'vinterface-config': {'enabled': True},\n",
       "        'vinterface-status': {'entity-state': 'UP',\n",
       "         'mapped-port': 'openflow:14:3',\n",
       "         'state': 'UP'}},\n",
       "       {'name': 'if1',\n",
       "        'port-map-config': {'node': 'openflow:8',\n",
       "         'port-name': 'sw8-eth2',\n",
       "         'vlan-id': 0},\n",
       "        'vinterface-config': {'enabled': True},\n",
       "        'vinterface-status': {'entity-state': 'UP',\n",
       "         'mapped-port': 'openflow:8:2',\n",
       "         'state': 'UP'}}]}],\n",
       "    'vtenant-config': {'hard-timeout': 0, 'idle-timeout': 300}},\n",
       "   {'name': 'square',\n",
       "    'vbridge': [{'bridge-status': {'path-faults': 0, 'state': 'UP'},\n",
       "      'name': 'vbr2',\n",
       "      'vbridge-config': {'age-interval': 600},\n",
       "      'vinterface': [{'name': 'if7',\n",
       "        'port-map-config': {'node': 'openflow:36',\n",
       "         'port-name': 'sw36-eth2',\n",
       "         'vlan-id': 0},\n",
       "        'vinterface-config': {'enabled': True},\n",
       "        'vinterface-status': {'entity-state': 'UP',\n",
       "         'mapped-port': 'openflow:36:2',\n",
       "         'state': 'UP'}},\n",
       "       {'name': 'if6',\n",
       "        'port-map-config': {'node': 'openflow:33',\n",
       "         'port-name': 'sw33-eth2',\n",
       "         'vlan-id': 0},\n",
       "        'vinterface-config': {'enabled': True},\n",
       "        'vinterface-status': {'entity-state': 'UP',\n",
       "         'mapped-port': 'openflow:33:2',\n",
       "         'state': 'UP'}},\n",
       "       {'name': 'if5',\n",
       "        'port-map-config': {'node': 'openflow:31',\n",
       "         'port-name': 'sw31-eth2',\n",
       "         'vlan-id': 0},\n",
       "        'vinterface-config': {'enabled': True},\n",
       "        'vinterface-status': {'entity-state': 'UP',\n",
       "         'mapped-port': 'openflow:31:2',\n",
       "         'state': 'UP'}},\n",
       "       {'name': 'if4',\n",
       "        'port-map-config': {'node': 'openflow:19',\n",
       "         'port-name': 'sw19-eth2',\n",
       "         'vlan-id': 0},\n",
       "        'vinterface-config': {'enabled': True},\n",
       "        'vinterface-status': {'entity-state': 'UP',\n",
       "         'mapped-port': 'openflow:19:2',\n",
       "         'state': 'UP'}},\n",
       "       {'name': 'if3',\n",
       "        'port-map-config': {'node': 'openflow:4',\n",
       "         'port-name': 'sw4-eth2',\n",
       "         'vlan-id': 0},\n",
       "        'vinterface-config': {'enabled': True},\n",
       "        'vinterface-status': {'entity-state': 'UP',\n",
       "         'mapped-port': 'openflow:4:2',\n",
       "         'state': 'UP'}},\n",
       "       {'name': 'if2',\n",
       "        'port-map-config': {'node': 'openflow:12',\n",
       "         'port-name': 'sw12-eth2',\n",
       "         'vlan-id': 0},\n",
       "        'vinterface-config': {'enabled': True},\n",
       "        'vinterface-status': {'entity-state': 'UP',\n",
       "         'mapped-port': 'openflow:12:2',\n",
       "         'state': 'UP'}},\n",
       "       {'name': 'if1',\n",
       "        'port-map-config': {'node': 'openflow:7',\n",
       "         'port-name': 'sw7-eth2',\n",
       "         'vlan-id': 0},\n",
       "        'vinterface-config': {'enabled': True},\n",
       "        'vinterface-status': {'entity-state': 'UP',\n",
       "         'mapped-port': 'openflow:7:2',\n",
       "         'state': 'UP'}}]}],\n",
       "    'vtenant-config': {'hard-timeout': 0, 'idle-timeout': 300}}]}}"
      ]
     },
     "execution_count": 100,
     "metadata": {},
     "output_type": "execute_result"
    }
   ],
   "source": [
    "odl = ODLClient(\"http://localhost:8181\")\n",
    "odl.get_vtns()"
   ]
  }
 ],
 "metadata": {
  "kernelspec": {
   "display_name": "Python 3",
   "language": "python",
   "name": "python3"
  },
  "language_info": {
   "codemirror_mode": {
    "name": "ipython",
    "version": 3
   },
   "file_extension": ".py",
   "mimetype": "text/x-python",
   "name": "python",
   "nbconvert_exporter": "python",
   "pygments_lexer": "ipython3",
   "version": "3.6.3"
  }
 },
 "nbformat": 4,
 "nbformat_minor": 2
}
