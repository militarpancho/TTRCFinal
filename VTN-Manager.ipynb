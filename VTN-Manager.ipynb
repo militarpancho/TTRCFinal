{
 "cells": [
  {
   "cell_type": "code",
   "execution_count": 88,
   "metadata": {},
   "outputs": [
    {
     "data": {
      "text/plain": [
       "'\\nInstall this features first in odl:\\nfeature:install odl-mdsal-clustering\\nfeature:install odl-restconf\\nfeature:install odl-mdsal-apidocs\\nfeature:install odl-vtn-manager\\n'"
      ]
     },
     "execution_count": 88,
     "metadata": {},
     "output_type": "execute_result"
    }
   ],
   "source": [
    "'''\n",
    "Install this features first in odl:\n",
    "feature:install odl-mdsal-clustering\n",
    "feature:install odl-restconf\n",
    "feature:install odl-mdsal-apidocs\n",
    "feature:install odl-vtn-manager\n",
    "'''"
   ]
  },
  {
   "cell_type": "code",
   "execution_count": 2,
   "metadata": {},
   "outputs": [],
   "source": [
    "from vtnManager import ODLClient\n",
    "odl = ODLClient(\"http://localhost:8181\")"
   ]
  },
  {
   "cell_type": "code",
   "execution_count": 6,
   "metadata": {},
   "outputs": [
    {
     "data": {
      "text/plain": [
       "[{'node': 'openflow:3',\n",
       "  'order': 0,\n",
       "  'physical-egress-port': {'port-id': '2', 'port-name': 'sw3-eth2'},\n",
       "  'physical-ingress-port': {'port-id': '1', 'port-name': 'sw3-eth1'}},\n",
       " {'node': 'openflow:4',\n",
       "  'order': 1,\n",
       "  'physical-egress-port': {'port-id': '2', 'port-name': 'sw4-eth2'},\n",
       "  'physical-ingress-port': {'port-id': '1', 'port-name': 'sw4-eth1'}}]"
      ]
     },
     "execution_count": 6,
     "metadata": {},
     "output_type": "execute_result"
    }
   ],
   "source": [
    "odl.set_flow_cond(\"cond_hs\", \"1\", \"10.0.0.11\", \"10.0.0.12\")"
   ]
  },
  {
   "cell_type": "code",
   "execution_count": 2,
   "metadata": {},
   "outputs": [
    {
     "data": {
      "text/plain": [
       "{'output': {'set-path-map-result': [{'index': 1, 'status': 'CREATED'}]}}"
      ]
     },
     "execution_count": 2,
     "metadata": {},
     "output_type": "execute_result"
    }
   ],
   "source": [
    "odl.set_path_map(\"cond_1\", \"1\", \"1\", \"triangle\")"
   ]
  },
  {
   "cell_type": "code",
   "execution_count": 2,
   "metadata": {},
   "outputs": [
    {
     "name": "stdout",
     "output_type": "stream",
     "text": [
      "{'input': {'operation': 'SET', 'id': '1', 'default-cost': 1, 'vtn-path-cost': [{'port-desc': 'openflow:3,1,s3-eth1', 'cost': '100'}, {'port-desc': 'openflow:4,2,s4-eth2', 'cost': '1000'}]}}\n"
     ]
    },
    {
     "data": {
      "text/plain": [
       "{'output': {'status': 'CREATED'}}"
      ]
     },
     "execution_count": 2,
     "metadata": {},
     "output_type": "execute_result"
    }
   ],
   "source": [
    "odl.set_path_policy({\"s3-eth1\": \"100\", \"s4-eth2\": \"1000\"},\"1\")"
   ]
  },
  {
   "cell_type": "code",
   "execution_count": 141,
   "metadata": {},
   "outputs": [
    {
     "data": {
      "text/plain": [
       "{'sw1-eth1',\n",
       " 'sw1-eth2',\n",
       " 'sw10-eth1',\n",
       " 'sw10-eth2',\n",
       " 'sw11-eth1',\n",
       " 'sw11-eth2',\n",
       " 'sw12-eth1',\n",
       " 'sw12-eth2',\n",
       " 'sw16-eth2',\n",
       " 'sw17-eth1',\n",
       " 'sw17-eth2',\n",
       " 'sw17-eth3',\n",
       " 'sw18-eth1',\n",
       " 'sw18-eth3',\n",
       " 'sw2-eth1',\n",
       " 'sw2-eth2',\n",
       " 'sw2-eth3',\n",
       " 'sw20-eth1',\n",
       " 'sw20-eth2',\n",
       " 'sw28-eth3',\n",
       " 'sw29-eth1',\n",
       " 'sw29-eth2',\n",
       " 'sw3-eth3',\n",
       " 'sw3-eth4',\n",
       " 'sw30-eth1',\n",
       " 'sw30-eth2',\n",
       " 'sw30-eth3',\n",
       " 'sw31-eth1',\n",
       " 'sw31-eth2',\n",
       " 'sw32-eth1',\n",
       " 'sw32-eth2',\n",
       " 'sw32-eth3',\n",
       " 'sw33-eth1',\n",
       " 'sw33-eth2',\n",
       " 'sw34-eth1',\n",
       " 'sw34-eth2',\n",
       " 'sw35-eth1',\n",
       " 'sw35-eth2',\n",
       " 'sw35-eth3',\n",
       " 'sw36-eth1',\n",
       " 'sw36-eth3',\n",
       " 'sw5-eth1',\n",
       " 'sw5-eth3',\n",
       " 'sw6-eth1',\n",
       " 'sw6-eth2',\n",
       " 'sw6-eth3',\n",
       " 'sw7-eth1',\n",
       " 'sw7-eth2',\n",
       " 'sw8-eth1'}"
      ]
     },
     "execution_count": 141,
     "metadata": {},
     "output_type": "execute_result"
    }
   ],
   "source": [
    "import pickle\n",
    "hex_traffic_policy = {}\n",
    "hexagon_traffic = set(pickle.load( open( \"vtnManager/trafficset_hexagon.p\", \"rb\" )))\n",
    "square_traffic = set(pickle.load( open( \"vtnManager/trafficset_square.p\", \"rb\" )))\n",
    "\n",
    "cost_15 = square_traffic & hexagon_traffic \n",
    "cost_10 = hexagon_traffic - square_traffic\n",
    "cost_5 = square_traffic - hexagon_traffic\n"
   ]
  },
  {
   "cell_type": "code",
   "execution_count": 140,
   "metadata": {},
   "outputs": [
    {
     "data": {
      "text/plain": [
       "{'sw1-eth1',\n",
       " 'sw1-eth2',\n",
       " 'sw10-eth1',\n",
       " 'sw10-eth2',\n",
       " 'sw11-eth1',\n",
       " 'sw11-eth2',\n",
       " 'sw11-eth3',\n",
       " 'sw11-eth4',\n",
       " 'sw12-eth1',\n",
       " 'sw12-eth2',\n",
       " 'sw13-eth1',\n",
       " 'sw13-eth3',\n",
       " 'sw15-eth1',\n",
       " 'sw15-eth2',\n",
       " 'sw16-eth1',\n",
       " 'sw16-eth2',\n",
       " 'sw16-eth3',\n",
       " 'sw17-eth1',\n",
       " 'sw17-eth2',\n",
       " 'sw17-eth3',\n",
       " 'sw18-eth1',\n",
       " 'sw18-eth3',\n",
       " 'sw2-eth1',\n",
       " 'sw2-eth2',\n",
       " 'sw2-eth3',\n",
       " 'sw20-eth1',\n",
       " 'sw20-eth2',\n",
       " 'sw28-eth1',\n",
       " 'sw28-eth3',\n",
       " 'sw29-eth1',\n",
       " 'sw29-eth2',\n",
       " 'sw3-eth3',\n",
       " 'sw3-eth4',\n",
       " 'sw30-eth1',\n",
       " 'sw30-eth2',\n",
       " 'sw30-eth3',\n",
       " 'sw31-eth1',\n",
       " 'sw31-eth2',\n",
       " 'sw32-eth1',\n",
       " 'sw32-eth2',\n",
       " 'sw32-eth3',\n",
       " 'sw33-eth1',\n",
       " 'sw33-eth2',\n",
       " 'sw34-eth1',\n",
       " 'sw34-eth2',\n",
       " 'sw35-eth1',\n",
       " 'sw35-eth2',\n",
       " 'sw35-eth3',\n",
       " 'sw36-eth1',\n",
       " 'sw36-eth3',\n",
       " 'sw5-eth1',\n",
       " 'sw5-eth3',\n",
       " 'sw6-eth1',\n",
       " 'sw6-eth2',\n",
       " 'sw6-eth3',\n",
       " 'sw7-eth1',\n",
       " 'sw7-eth2',\n",
       " 'sw8-eth1',\n",
       " 'sw8-eth3',\n",
       " 'sw9-eth1',\n",
       " 'sw9-eth2'}"
      ]
     },
     "execution_count": 140,
     "metadata": {},
     "output_type": "execute_result"
    }
   ],
   "source": [
    "square_traffic"
   ]
  }
 ],
 "metadata": {
  "kernelspec": {
   "display_name": "Python 3",
   "language": "python",
   "name": "python3"
  },
  "language_info": {
   "codemirror_mode": {
    "name": "ipython",
    "version": 3
   },
   "file_extension": ".py",
   "mimetype": "text/x-python",
   "name": "python",
   "nbconvert_exporter": "python",
   "pygments_lexer": "ipython3",
   "version": "3.6.3"
  }
 },
 "nbformat": 4,
 "nbformat_minor": 2
}
