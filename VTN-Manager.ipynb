{
 "cells": [
  {
   "cell_type": "code",
   "execution_count": 88,
   "metadata": {},
   "outputs": [
    {
     "data": {
      "text/plain": [
       "'\\nInstall this features first in odl:\\nfeature:install odl-mdsal-clustering\\nfeature:install odl-restconf\\nfeature:install odl-mdsal-apidocs\\nfeature:install odl-vtn-manager\\n'"
      ]
     },
     "execution_count": 88,
     "metadata": {},
     "output_type": "execute_result"
    }
   ],
   "source": [
    "'''\n",
    "Install this features first in odl:\n",
    "feature:install odl-mdsal-clustering\n",
    "feature:install odl-restconf\n",
    "feature:install odl-mdsal-apidocs\n",
    "feature:install odl-vtn-manager\n",
    "'''"
   ]
  },
  {
   "cell_type": "code",
   "execution_count": 1,
   "metadata": {},
   "outputs": [],
   "source": [
    "from vtnManager.vtnManager import ODLClient\n",
    "odl = ODLClient(\"http://localhost:8181\")"
   ]
  },
  {
   "cell_type": "code",
   "execution_count": 2,
   "metadata": {},
   "outputs": [
    {
     "name": "stdout",
     "output_type": "stream",
     "text": [
      "{'input': {'operation': 'SET', 'present': 'false', 'name': 'cond_prueba', 'vtn-flow-match': [{'vtn-ether-match': {}, 'vtn-inet-match': {'source-network': '10.0.0.1/32', 'protocol': 1, 'destination-network': '10.0.0.2/32'}, 'index': '100'}]}}\n"
     ]
    },
    {
     "data": {
      "text/plain": [
       "{'output': {'status': 'CHANGED'}}"
      ]
     },
     "execution_count": 2,
     "metadata": {},
     "output_type": "execute_result"
    }
   ],
   "source": [
    "odl.set_flow_cond(\"cond_prueba\", \"100\", \"10.0.0.1\", \"10.0.0.2\")"
   ]
  },
  {
   "cell_type": "code",
   "execution_count": 2,
   "metadata": {},
   "outputs": [
    {
     "data": {
      "text/plain": [
       "{'output': {'set-path-map-result': [{'index': 1, 'status': 'CREATED'}]}}"
      ]
     },
     "execution_count": 2,
     "metadata": {},
     "output_type": "execute_result"
    }
   ],
   "source": [
    "odl.set_path_map(\"cond_1\", \"1\", \"1\", \"triangle\")"
   ]
  },
  {
   "cell_type": "code",
   "execution_count": 20,
   "metadata": {},
   "outputs": [
    {
     "data": {
      "text/plain": [
       "{'output': {'set-path-map-result': [{'index': 4}]}}"
      ]
     },
     "execution_count": 20,
     "metadata": {},
     "output_type": "execute_result"
    }
   ],
   "source": [
    "odl.set_path_map(\"cond4\", \"4\", \"1\", \"square\")"
   ]
  },
  {
   "cell_type": "code",
   "execution_count": 2,
   "metadata": {},
   "outputs": [
    {
     "name": "stdout",
     "output_type": "stream",
     "text": [
      "{'input': {'operation': 'SET', 'id': '1', 'default-cost': 1, 'vtn-path-cost': [{'port-desc': 'openflow:3,1,s3-eth1', 'cost': '100'}, {'port-desc': 'openflow:4,2,s4-eth2', 'cost': '1000'}]}}\n"
     ]
    },
    {
     "data": {
      "text/plain": [
       "{'output': {'status': 'CREATED'}}"
      ]
     },
     "execution_count": 2,
     "metadata": {},
     "output_type": "execute_result"
    }
   ],
   "source": [
    "odl.set_path_policy({\"s3-eth1\": \"100\", \"s4-eth2\": \"1000\"},\"1\")"
   ]
  },
  {
   "cell_type": "code",
   "execution_count": 21,
   "metadata": {},
   "outputs": [
    {
     "data": {
      "text/plain": [
       "{'global-path-maps': {}}"
      ]
     },
     "execution_count": 21,
     "metadata": {},
     "output_type": "execute_result"
    }
   ],
   "source": [
    "odl.get_path_maps()"
   ]
  }
 ],
 "metadata": {
  "kernelspec": {
   "display_name": "Python 3",
   "language": "python",
   "name": "python3"
  },
  "language_info": {
   "codemirror_mode": {
    "name": "ipython",
    "version": 3
   },
   "file_extension": ".py",
   "mimetype": "text/x-python",
   "name": "python",
   "nbconvert_exporter": "python",
   "pygments_lexer": "ipython3",
   "version": "3.6.3"
  }
 },
 "nbformat": 4,
 "nbformat_minor": 2
}
