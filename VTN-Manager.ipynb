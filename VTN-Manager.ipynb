{
 "cells": [
  {
   "cell_type": "code",
   "execution_count": 88,
   "metadata": {},
   "outputs": [
    {
     "data": {
      "text/plain": [
       "'\\nInstall this features first in odl:\\nfeature:install odl-mdsal-clustering\\nfeature:install odl-restconf\\nfeature:install odl-mdsal-apidocs\\nfeature:install odl-vtn-manager\\n'"
      ]
     },
     "execution_count": 88,
     "metadata": {},
     "output_type": "execute_result"
    }
   ],
   "source": [
    "'''\n",
    "Install this features first in odl:\n",
    "feature:install odl-mdsal-clustering\n",
    "feature:install odl-restconf\n",
    "feature:install odl-mdsal-apidocs\n",
    "feature:install odl-vtn-manager\n",
    "'''"
   ]
  },
  {
   "cell_type": "code",
   "execution_count": 1,
   "metadata": {},
   "outputs": [],
   "source": [
    "from vtnManager import ODLClient\n",
    "odl = ODLClient(\"http://localhost:8181\")"
   ]
  },
  {
   "cell_type": "code",
   "execution_count": 6,
   "metadata": {},
   "outputs": [
    {
     "data": {
      "text/plain": [
       "[{'node': 'openflow:3',\n",
       "  'order': 0,\n",
       "  'physical-egress-port': {'port-id': '2', 'port-name': 'sw3-eth2'},\n",
       "  'physical-ingress-port': {'port-id': '1', 'port-name': 'sw3-eth1'}},\n",
       " {'node': 'openflow:4',\n",
       "  'order': 1,\n",
       "  'physical-egress-port': {'port-id': '2', 'port-name': 'sw4-eth2'},\n",
       "  'physical-ingress-port': {'port-id': '1', 'port-name': 'sw4-eth1'}}]"
      ]
     },
     "execution_count": 6,
     "metadata": {},
     "output_type": "execute_result"
    }
   ],
   "source": [
    "odl.set_flow_cond(\"cond_1\", \"1\", \"10.0.0.11/32\", \"10.0.0.12/32z\", \"triangle\")"
   ]
  },
  {
   "cell_type": "code",
   "execution_count": 2,
   "metadata": {},
   "outputs": [
    {
     "data": {
      "text/plain": [
       "{'output': {'set-path-map-result': [{'index': 1, 'status': 'CREATED'}]}}"
      ]
     },
     "execution_count": 2,
     "metadata": {},
     "output_type": "execute_result"
    }
   ],
   "source": [
    "odl.set_path_map(\"cond_1\", \"1\", \"1\", \"triangle\")"
   ]
  },
  {
   "cell_type": "code",
   "execution_count": 2,
   "metadata": {},
   "outputs": [
    {
     "name": "stdout",
     "output_type": "stream",
     "text": [
      "{'input': {'operation': 'SET', 'id': '1', 'default-cost': 1, 'vtn-path-cost': [{'port-desc': 'openflow:3,1,s3-eth1', 'cost': '100'}, {'port-desc': 'openflow:4,2,s4-eth2', 'cost': '1000'}]}}\n"
     ]
    },
    {
     "data": {
      "text/plain": [
       "{'output': {'status': 'CREATED'}}"
      ]
     },
     "execution_count": 2,
     "metadata": {},
     "output_type": "execute_result"
    }
   ],
   "source": [
    "odl.set_path_policy({\"s3-eth1\": \"100\", \"s4-eth2\": \"1000\"},\"1\")"
   ]
  },
  {
   "cell_type": "code",
   "execution_count": 5,
   "metadata": {},
   "outputs": [
    {
     "data": {
      "text/plain": [
       "{'output': {'data-flow-info': [{'creation-time': 1516564450762,\n",
       "    'data-egress-node': {'bridge-name': 'vbr3',\n",
       "     'interface-name': 'if1',\n",
       "     'tenant-name': 'triangle'},\n",
       "    'data-egress-port': {'node': 'openflow:3',\n",
       "     'port-id': '1',\n",
       "     'port-name': 'sw3-eth1'},\n",
       "    'data-flow-match': {'vtn-ether-match': {'destination-address': '00:00:00:00:00:0b',\n",
       "      'ether-type': 2054,\n",
       "      'source-address': '00:00:00:00:00:0c',\n",
       "      'vlan-id': 0}},\n",
       "    'data-flow-stats': {'byte-count': 0,\n",
       "     'duration': {'nanosecond': 413000000, 'second': 1},\n",
       "     'packet-count': 0},\n",
       "    'data-ingress-node': {'bridge-name': 'vbr3',\n",
       "     'interface-name': 'if2',\n",
       "     'tenant-name': 'triangle'},\n",
       "    'data-ingress-port': {'node': 'openflow:4',\n",
       "     'port-id': '2',\n",
       "     'port-name': 'sw4-eth2'},\n",
       "    'flow-id': 21,\n",
       "    'hard-timeout': 0,\n",
       "    'idle-timeout': 300,\n",
       "    'physical-route': [{'node': 'openflow:4',\n",
       "      'order': 0,\n",
       "      'physical-egress-port': {'port-id': '1', 'port-name': 'sw4-eth1'},\n",
       "      'physical-ingress-port': {'port-id': '2', 'port-name': 'sw4-eth2'}},\n",
       "     {'node': 'openflow:3',\n",
       "      'order': 1,\n",
       "      'physical-egress-port': {'port-id': '1', 'port-name': 'sw3-eth1'},\n",
       "      'physical-ingress-port': {'port-id': '2', 'port-name': 'sw3-eth2'}}],\n",
       "    'virtual-route': [{'order': 0,\n",
       "      'reason': 'PORTMAPPED',\n",
       "      'virtual-node-path': {'bridge-name': 'vbr3',\n",
       "       'interface-name': 'if2',\n",
       "       'tenant-name': 'triangle'}},\n",
       "     {'order': 1,\n",
       "      'reason': 'FORWARDED',\n",
       "      'virtual-node-path': {'bridge-name': 'vbr3',\n",
       "       'interface-name': 'if1',\n",
       "       'tenant-name': 'triangle'}}]},\n",
       "   {'creation-time': 1516564445738,\n",
       "    'data-egress-node': {'bridge-name': 'vbr3',\n",
       "     'interface-name': 'if1',\n",
       "     'tenant-name': 'triangle'},\n",
       "    'data-egress-port': {'node': 'openflow:3',\n",
       "     'port-id': '1',\n",
       "     'port-name': 'sw3-eth1'},\n",
       "    'data-flow-match': {'vtn-ether-match': {'destination-address': '00:00:00:00:00:0b',\n",
       "      'ether-type': 2048,\n",
       "      'source-address': '00:00:00:00:00:0c',\n",
       "      'vlan-id': 0},\n",
       "     'vtn-inet-match': {'source-network': '10.0.0.12/32'}},\n",
       "    'data-flow-stats': {'byte-count': 0,\n",
       "     'duration': {'nanosecond': 266000000, 'second': 0},\n",
       "     'packet-count': 0},\n",
       "    'data-ingress-node': {'bridge-name': 'vbr3',\n",
       "     'interface-name': 'if2',\n",
       "     'tenant-name': 'triangle'},\n",
       "    'data-ingress-port': {'node': 'openflow:4',\n",
       "     'port-id': '2',\n",
       "     'port-name': 'sw4-eth2'},\n",
       "    'flow-id': 20,\n",
       "    'hard-timeout': 0,\n",
       "    'idle-timeout': 300,\n",
       "    'physical-route': [{'node': 'openflow:4',\n",
       "      'order': 0,\n",
       "      'physical-egress-port': {'port-id': '1', 'port-name': 'sw4-eth1'},\n",
       "      'physical-ingress-port': {'port-id': '2', 'port-name': 'sw4-eth2'}},\n",
       "     {'node': 'openflow:3',\n",
       "      'order': 1,\n",
       "      'physical-egress-port': {'port-id': '1', 'port-name': 'sw3-eth1'},\n",
       "      'physical-ingress-port': {'port-id': '2', 'port-name': 'sw3-eth2'}}],\n",
       "    'virtual-route': [{'order': 0,\n",
       "      'reason': 'PORTMAPPED',\n",
       "      'virtual-node-path': {'bridge-name': 'vbr3',\n",
       "       'interface-name': 'if2',\n",
       "       'tenant-name': 'triangle'}},\n",
       "     {'order': 1,\n",
       "      'reason': 'FORWARDED',\n",
       "      'virtual-node-path': {'bridge-name': 'vbr3',\n",
       "       'interface-name': 'if1',\n",
       "       'tenant-name': 'triangle'}}]},\n",
       "   {'creation-time': 1516564445729,\n",
       "    'data-egress-node': {'bridge-name': 'vbr3',\n",
       "     'interface-name': 'if2',\n",
       "     'tenant-name': 'triangle'},\n",
       "    'data-egress-port': {'node': 'openflow:4',\n",
       "     'port-id': '2',\n",
       "     'port-name': 'sw4-eth2'},\n",
       "    'data-flow-match': {'vtn-ether-match': {'destination-address': '00:00:00:00:00:0c',\n",
       "      'ether-type': 2048,\n",
       "      'source-address': '00:00:00:00:00:0b',\n",
       "      'vlan-id': 0},\n",
       "     'vtn-inet-match': {'destination-network': '10.0.0.12/32',\n",
       "      'protocol': 1,\n",
       "      'source-network': '10.0.0.11/32'}},\n",
       "    'data-flow-stats': {'byte-count': 0,\n",
       "     'duration': {'nanosecond': 354000000, 'second': 0},\n",
       "     'packet-count': 0},\n",
       "    'data-ingress-node': {'bridge-name': 'vbr3',\n",
       "     'interface-name': 'if1',\n",
       "     'tenant-name': 'triangle'},\n",
       "    'data-ingress-port': {'node': 'openflow:3',\n",
       "     'port-id': '1',\n",
       "     'port-name': 'sw3-eth1'},\n",
       "    'flow-id': 19,\n",
       "    'hard-timeout': 0,\n",
       "    'idle-timeout': 300,\n",
       "    'physical-route': [{'node': 'openflow:3',\n",
       "      'order': 0,\n",
       "      'physical-egress-port': {'port-id': '2', 'port-name': 'sw3-eth2'},\n",
       "      'physical-ingress-port': {'port-id': '1', 'port-name': 'sw3-eth1'}},\n",
       "     {'node': 'openflow:4',\n",
       "      'order': 1,\n",
       "      'physical-egress-port': {'port-id': '2', 'port-name': 'sw4-eth2'},\n",
       "      'physical-ingress-port': {'port-id': '1', 'port-name': 'sw4-eth1'}}],\n",
       "    'virtual-route': [{'order': 0,\n",
       "      'reason': 'PORTMAPPED',\n",
       "      'virtual-node-path': {'bridge-name': 'vbr3',\n",
       "       'interface-name': 'if1',\n",
       "       'tenant-name': 'triangle'}},\n",
       "     {'order': 1,\n",
       "      'reason': 'FORWARDED',\n",
       "      'virtual-node-path': {'bridge-name': 'vbr3',\n",
       "       'interface-name': 'if2',\n",
       "       'tenant-name': 'triangle'}}]},\n",
       "   {'creation-time': 1516564450774,\n",
       "    'data-egress-node': {'bridge-name': 'vbr3',\n",
       "     'interface-name': 'if2',\n",
       "     'tenant-name': 'triangle'},\n",
       "    'data-egress-port': {'node': 'openflow:4',\n",
       "     'port-id': '2',\n",
       "     'port-name': 'sw4-eth2'},\n",
       "    'data-flow-match': {'vtn-ether-match': {'destination-address': '00:00:00:00:00:0c',\n",
       "      'ether-type': 2054,\n",
       "      'source-address': '00:00:00:00:00:0b',\n",
       "      'vlan-id': 0}},\n",
       "    'data-flow-stats': {'byte-count': 0,\n",
       "     'duration': {'nanosecond': 490000000, 'second': 1},\n",
       "     'packet-count': 0},\n",
       "    'data-ingress-node': {'bridge-name': 'vbr3',\n",
       "     'interface-name': 'if1',\n",
       "     'tenant-name': 'triangle'},\n",
       "    'data-ingress-port': {'node': 'openflow:3',\n",
       "     'port-id': '1',\n",
       "     'port-name': 'sw3-eth1'},\n",
       "    'flow-id': 22,\n",
       "    'hard-timeout': 0,\n",
       "    'idle-timeout': 300,\n",
       "    'physical-route': [{'node': 'openflow:3',\n",
       "      'order': 0,\n",
       "      'physical-egress-port': {'port-id': '2', 'port-name': 'sw3-eth2'},\n",
       "      'physical-ingress-port': {'port-id': '1', 'port-name': 'sw3-eth1'}},\n",
       "     {'node': 'openflow:4',\n",
       "      'order': 1,\n",
       "      'physical-egress-port': {'port-id': '2', 'port-name': 'sw4-eth2'},\n",
       "      'physical-ingress-port': {'port-id': '1', 'port-name': 'sw4-eth1'}}],\n",
       "    'virtual-route': [{'order': 0,\n",
       "      'reason': 'PORTMAPPED',\n",
       "      'virtual-node-path': {'bridge-name': 'vbr3',\n",
       "       'interface-name': 'if1',\n",
       "       'tenant-name': 'triangle'}},\n",
       "     {'order': 1,\n",
       "      'reason': 'FORWARDED',\n",
       "      'virtual-node-path': {'bridge-name': 'vbr3',\n",
       "       'interface-name': 'if2',\n",
       "       'tenant-name': 'triangle'}}]}]}}"
      ]
     },
     "execution_count": 5,
     "metadata": {},
     "output_type": "execute_result"
    }
   ],
   "source": [
    "odl.get_dataflow(\"sw3-eth1\", \"openflow:3\", \"triangle\", only_route=False)"
   ]
  }
 ],
 "metadata": {
  "kernelspec": {
   "display_name": "Python 3",
   "language": "python",
   "name": "python3"
  },
  "language_info": {
   "codemirror_mode": {
    "name": "ipython",
    "version": 3
   },
   "file_extension": ".py",
   "mimetype": "text/x-python",
   "name": "python",
   "nbconvert_exporter": "python",
   "pygments_lexer": "ipython3",
   "version": "3.6.3"
  }
 },
 "nbformat": 4,
 "nbformat_minor": 2
}
