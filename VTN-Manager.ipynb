{
 "cells": [
  {
   "cell_type": "code",
   "execution_count": 88,
   "metadata": {},
   "outputs": [
    {
     "data": {
      "text/plain": [
       "'\\nInstall this features first in odl:\\nfeature:install odl-mdsal-clustering\\nfeature:install odl-restconf\\nfeature:install odl-mdsal-apidocs\\nfeature:install odl-vtn-manager\\n'"
      ]
     },
     "execution_count": 88,
     "metadata": {},
     "output_type": "execute_result"
    }
   ],
   "source": [
    "'''\n",
    "Install this features first in odl:\n",
    "feature:install odl-mdsal-clustering\n",
    "feature:install odl-restconf\n",
    "feature:install odl-mdsal-apidocs\n",
    "feature:install odl-vtn-manager\n",
    "'''"
   ]
  },
  {
   "cell_type": "code",
   "execution_count": 1,
   "metadata": {},
   "outputs": [],
   "source": [
    "from vtnManager.vtnManager import ODLClient\n",
    "odl = ODLClient(\"http://localhost:8181\")"
   ]
  },
  {
   "cell_type": "code",
   "execution_count": 20,
   "metadata": {},
   "outputs": [
    {
     "data": {
      "text/plain": [
       "{'vtn-path-policies': {'vtn-path-policy': [{'default-cost': 1,\n",
       "    'id': 1,\n",
       "    'vtn-path-cost': [{'cost': 10, 'port-desc': 'openflow:8,3,s8-eth3'},\n",
       "     {'cost': 10, 'port-desc': 'openflow:8,2,s8-eth2'},\n",
       "     {'cost': 10, 'port-desc': 'openflow:13,2,s13-eth2'},\n",
       "     {'cost': 10, 'port-desc': 'openflow:11,3,s11-eth3'},\n",
       "     {'cost': 10, 'port-desc': 'openflow:16,3,s16-eth3'},\n",
       "     {'cost': 10, 'port-desc': 'openflow:13,1,s13-eth1'},\n",
       "     {'cost': 10, 'port-desc': 'openflow:28,1,s28-eth1'},\n",
       "     {'cost': 10, 'port-desc': 'openflow:14,1,s14-eth1'},\n",
       "     {'cost': 10, 'port-desc': 'openflow:27,2,s27-eth2'},\n",
       "     {'cost': 10, 'port-desc': 'openflow:14,2,s14-eth2'},\n",
       "     {'cost': 10, 'port-desc': 'openflow:16,1,s16-eth1'},\n",
       "     {'cost': 10, 'port-desc': 'openflow:15,1,s15-eth1'},\n",
       "     {'cost': 10, 'port-desc': 'openflow:28,2,s28-eth2'},\n",
       "     {'cost': 10, 'port-desc': 'openflow:9,2,s9-eth2'},\n",
       "     {'cost': 10, 'port-desc': 'openflow:27,3,s27-eth3'},\n",
       "     {'cost': 10, 'port-desc': 'openflow:11,4,s11-eth4'},\n",
       "     {'cost': 10, 'port-desc': 'openflow:13,3,s13-eth3'},\n",
       "     {'cost': 10, 'port-desc': 'openflow:9,1,s9-eth1'},\n",
       "     {'cost': 10, 'port-desc': 'openflow:15,2,s15-eth2'}]},\n",
       "   {'default-cost': 1,\n",
       "    'id': 2,\n",
       "    'vtn-path-cost': [{'cost': 5, 'port-desc': 'openflow:32,1,s32-eth1'},\n",
       "     {'cost': 5, 'port-desc': 'openflow:2,1,s2-eth1'},\n",
       "     {'cost': 5, 'port-desc': 'openflow:16,2,s16-eth2'},\n",
       "     {'cost': 5, 'port-desc': 'openflow:3,4,s3-eth4'},\n",
       "     {'cost': 5, 'port-desc': 'openflow:30,3,s30-eth3'},\n",
       "     {'cost': 5, 'port-desc': 'openflow:20,1,s20-eth1'},\n",
       "     {'cost': 5, 'port-desc': 'openflow:18,3,s18-eth3'},\n",
       "     {'cost': 5, 'port-desc': 'openflow:34,2,s34-eth2'},\n",
       "     {'cost': 5, 'port-desc': 'openflow:11,2,s11-eth2'},\n",
       "     {'cost': 10, 'port-desc': 'openflow:14,1,s14-eth1'},\n",
       "     {'cost': 15, 'port-desc': 'openflow:15,1,s15-eth1'},\n",
       "     {'cost': 10, 'port-desc': 'openflow:28,2,s28-eth2'},\n",
       "     {'cost': 5, 'port-desc': 'openflow:31,1,s31-eth1'},\n",
       "     {'cost': 5, 'port-desc': 'openflow:36,3,s36-eth3'},\n",
       "     {'cost': 5, 'port-desc': 'openflow:33,1,s33-eth1'},\n",
       "     {'cost': 15, 'port-desc': 'openflow:13,3,s13-eth3'},\n",
       "     {'cost': 5, 'port-desc': 'openflow:10,1,s10-eth1'},\n",
       "     {'cost': 5, 'port-desc': 'openflow:6,3,s6-eth3'},\n",
       "     {'cost': 10, 'port-desc': 'openflow:8,2,s8-eth2'},\n",
       "     {'cost': 5, 'port-desc': 'openflow:7,2,s7-eth2'},\n",
       "     {'cost': 5, 'port-desc': 'openflow:32,3,s32-eth3'},\n",
       "     {'cost': 5, 'port-desc': 'openflow:30,1,s30-eth1'},\n",
       "     {'cost': 5, 'port-desc': 'openflow:33,2,s33-eth2'},\n",
       "     {'cost': 10, 'port-desc': 'openflow:27,2,s27-eth2'},\n",
       "     {'cost': 15, 'port-desc': 'openflow:16,1,s16-eth1'},\n",
       "     {'cost': 5, 'port-desc': 'openflow:10,2,s10-eth2'},\n",
       "     {'cost': 5, 'port-desc': 'openflow:34,1,s34-eth1'},\n",
       "     {'cost': 15, 'port-desc': 'openflow:9,2,s9-eth2'},\n",
       "     {'cost': 5, 'port-desc': 'openflow:2,3,s2-eth3'},\n",
       "     {'cost': 5, 'port-desc': 'openflow:11,1,s11-eth1'},\n",
       "     {'cost': 15, 'port-desc': 'openflow:15,2,s15-eth2'},\n",
       "     {'cost': 5, 'port-desc': 'openflow:3,3,s3-eth3'},\n",
       "     {'cost': 5, 'port-desc': 'openflow:31,2,s31-eth2'},\n",
       "     {'cost': 10, 'port-desc': 'openflow:13,2,s13-eth2'},\n",
       "     {'cost': 5, 'port-desc': 'openflow:1,1,s1-eth1'},\n",
       "     {'cost': 5, 'port-desc': 'openflow:35,1,s35-eth1'},\n",
       "     {'cost': 5, 'port-desc': 'openflow:29,1,s29-eth1'},\n",
       "     {'cost': 15, 'port-desc': 'openflow:28,1,s28-eth1'},\n",
       "     {'cost': 5, 'port-desc': 'openflow:2,2,s2-eth2'},\n",
       "     {'cost': 10, 'port-desc': 'openflow:14,2,s14-eth2'},\n",
       "     {'cost': 5, 'port-desc': 'openflow:5,3,s5-eth3'},\n",
       "     {'cost': 5, 'port-desc': 'openflow:12,1,s12-eth1'},\n",
       "     {'cost': 5, 'port-desc': 'openflow:5,1,s5-eth1'},\n",
       "     {'cost': 5, 'port-desc': 'openflow:32,2,s32-eth2'},\n",
       "     {'cost': 5, 'port-desc': 'openflow:6,2,s6-eth2'},\n",
       "     {'cost': 10, 'port-desc': 'openflow:27,3,s27-eth3'},\n",
       "     {'cost': 5, 'port-desc': 'openflow:17,1,s17-eth1'},\n",
       "     {'cost': 5, 'port-desc': 'openflow:30,2,s30-eth2'},\n",
       "     {'cost': 15, 'port-desc': 'openflow:8,3,s8-eth3'},\n",
       "     {'cost': 5, 'port-desc': 'openflow:28,3,s28-eth3'},\n",
       "     {'cost': 5, 'port-desc': 'openflow:29,2,s29-eth2'},\n",
       "     {'cost': 5, 'port-desc': 'openflow:7,1,s7-eth1'},\n",
       "     {'cost': 15, 'port-desc': 'openflow:11,3,s11-eth3'},\n",
       "     {'cost': 5, 'port-desc': 'openflow:8,1,s8-eth1'},\n",
       "     {'cost': 5, 'port-desc': 'openflow:35,2,s35-eth2'},\n",
       "     {'cost': 5, 'port-desc': 'openflow:17,2,s17-eth2'},\n",
       "     {'cost': 5, 'port-desc': 'openflow:6,1,s6-eth1'},\n",
       "     {'cost': 15, 'port-desc': 'openflow:16,3,s16-eth3'},\n",
       "     {'cost': 15, 'port-desc': 'openflow:13,1,s13-eth1'},\n",
       "     {'cost': 5, 'port-desc': 'openflow:12,2,s12-eth2'},\n",
       "     {'cost': 5, 'port-desc': 'openflow:36,1,s36-eth1'},\n",
       "     {'cost': 5, 'port-desc': 'openflow:17,3,s17-eth3'},\n",
       "     {'cost': 5, 'port-desc': 'openflow:20,2,s20-eth2'},\n",
       "     {'cost': 5, 'port-desc': 'openflow:1,2,s1-eth2'},\n",
       "     {'cost': 5, 'port-desc': 'openflow:18,1,s18-eth1'},\n",
       "     {'cost': 15, 'port-desc': 'openflow:11,4,s11-eth4'},\n",
       "     {'cost': 5, 'port-desc': 'openflow:35,3,s35-eth3'},\n",
       "     {'cost': 15, 'port-desc': 'openflow:9,1,s9-eth1'}]}]}}"
      ]
     },
     "execution_count": 20,
     "metadata": {},
     "output_type": "execute_result"
    }
   ],
   "source": [
    "odl.get_path_policies()"
   ]
  },
  {
   "cell_type": "code",
   "execution_count": 67,
   "metadata": {},
   "outputs": [
    {
     "data": {
      "text/plain": [
       "{'output': {'status': 'CREATED'}}"
      ]
     },
     "execution_count": 67,
     "metadata": {},
     "output_type": "execute_result"
    }
   ],
   "source": [
    "odl.set_flow_cond(\"cond_square\", \"69\", \"10.0.0.4\", \"10.0.0.5\")"
   ]
  },
  {
   "cell_type": "code",
   "execution_count": 68,
   "metadata": {},
   "outputs": [
    {
     "data": {
      "text/plain": [
       "{'output': {'set-path-map-result': [{'index': 69, 'status': 'CREATED'}]}}"
      ]
     },
     "execution_count": 68,
     "metadata": {},
     "output_type": "execute_result"
    }
   ],
   "source": [
    "odl.set_path_map(\"cond_square\", \"69\", \"3\", \"triangle\")"
   ]
  },
  {
   "cell_type": "code",
   "execution_count": 19,
   "metadata": {},
   "outputs": [
    {
     "data": {
      "text/plain": [
       "{'output': {'set-path-map-result': [{'index': 4, 'status': 'CREATED'}]}}"
      ]
     },
     "execution_count": 19,
     "metadata": {},
     "output_type": "execute_result"
    }
   ],
   "source": [
    "odl.set_path_map(\"cond4\", \"4\", \"1\", \"square\")"
   ]
  },
  {
   "cell_type": "code",
   "execution_count": 86,
   "metadata": {},
   "outputs": [
    {
     "data": {
      "text/plain": [
       "{'output': {}}"
      ]
     },
     "execution_count": 86,
     "metadata": {},
     "output_type": "execute_result"
    }
   ],
   "source": [
    "odl.set_path_policy({\"s6-eth2\": \"10000\"},\"3\")"
   ]
  },
  {
   "cell_type": "code",
   "execution_count": 115,
   "metadata": {},
   "outputs": [
    {
     "data": {
      "text/plain": [
       "{'output': {'status': 'CREATED'}}"
      ]
     },
     "execution_count": 115,
     "metadata": {},
     "output_type": "execute_result"
    }
   ],
   "source": [
    "odl.create_vtn(\"vtn1\")"
   ]
  },
  {
   "cell_type": "code",
   "execution_count": 116,
   "metadata": {},
   "outputs": [
    {
     "data": {
      "text/plain": [
       "{'output': {'status': 'CREATED'}}"
      ]
     },
     "execution_count": 116,
     "metadata": {},
     "output_type": "execute_result"
    }
   ],
   "source": [
    "odl.create_vBridge(\"vbr1\", \"vtn1\")"
   ]
  },
  {
   "cell_type": "code",
   "execution_count": 117,
   "metadata": {},
   "outputs": [
    {
     "data": {
      "text/plain": [
       "{'output': {'status': 'CREATED'}}"
      ]
     },
     "execution_count": 117,
     "metadata": {},
     "output_type": "execute_result"
    }
   ],
   "source": [
    "odl.create_vInterface(\"if1\", \"vbr1\", \"vtn1\")"
   ]
  },
  {
   "cell_type": "code",
   "execution_count": 118,
   "metadata": {},
   "outputs": [
    {
     "data": {
      "text/plain": [
       "{'output': {'status': 'CREATED'}}"
      ]
     },
     "execution_count": 118,
     "metadata": {},
     "output_type": "execute_result"
    }
   ],
   "source": [
    "odl.create_vInterface(\"if2\", \"vbr1\", \"vtn1\")"
   ]
  },
  {
   "cell_type": "code",
   "execution_count": 119,
   "metadata": {},
   "outputs": [
    {
     "data": {
      "text/plain": [
       "{'output': {'status': 'CREATED'}}"
      ]
     },
     "execution_count": 119,
     "metadata": {},
     "output_type": "execute_result"
    }
   ],
   "source": [
    "odl.create_vtnPortMap(\"s1-eth1\", \"openflow:1\", \"if1\", \"vbr1\", \"vtn1\")\n"
   ]
  },
  {
   "cell_type": "code",
   "execution_count": 120,
   "metadata": {},
   "outputs": [
    {
     "data": {
      "text/plain": [
       "{'output': {'status': 'CREATED'}}"
      ]
     },
     "execution_count": 120,
     "metadata": {},
     "output_type": "execute_result"
    }
   ],
   "source": [
    "odl.create_vtnPortMap(\"s3-eth3\", \"openflow:3\", \"if2\", \"vbr1\", \"vtn1\")\n"
   ]
  },
  {
   "cell_type": "code",
   "execution_count": 23,
   "metadata": {},
   "outputs": [
    {
     "data": {
      "text/plain": [
       "[{'node': 'openflow:7',\n",
       "  'order': 0,\n",
       "  'physical-egress-port': {'port-id': '1', 'port-name': 's7-eth1'},\n",
       "  'physical-ingress-port': {'port-id': '2', 'port-name': 's7-eth2'}},\n",
       " {'node': 'openflow:6',\n",
       "  'order': 1,\n",
       "  'physical-egress-port': {'port-id': '3', 'port-name': 's6-eth3'},\n",
       "  'physical-ingress-port': {'port-id': '2', 'port-name': 's6-eth2'}},\n",
       " {'node': 'openflow:8',\n",
       "  'order': 2,\n",
       "  'physical-egress-port': {'port-id': '3', 'port-name': 's8-eth3'},\n",
       "  'physical-ingress-port': {'port-id': '1', 'port-name': 's8-eth1'}},\n",
       " {'node': 'openflow:9',\n",
       "  'order': 3,\n",
       "  'physical-egress-port': {'port-id': '2', 'port-name': 's9-eth2'},\n",
       "  'physical-ingress-port': {'port-id': '1', 'port-name': 's9-eth1'}},\n",
       " {'node': 'openflow:11',\n",
       "  'order': 4,\n",
       "  'physical-egress-port': {'port-id': '4', 'port-name': 's11-eth4'},\n",
       "  'physical-ingress-port': {'port-id': '3', 'port-name': 's11-eth3'}},\n",
       " {'node': 'openflow:13',\n",
       "  'order': 5,\n",
       "  'physical-egress-port': {'port-id': '3', 'port-name': 's13-eth3'},\n",
       "  'physical-ingress-port': {'port-id': '1', 'port-name': 's13-eth1'}},\n",
       " {'node': 'openflow:15',\n",
       "  'order': 6,\n",
       "  'physical-egress-port': {'port-id': '2', 'port-name': 's15-eth2'},\n",
       "  'physical-ingress-port': {'port-id': '1', 'port-name': 's15-eth1'}},\n",
       " {'node': 'openflow:16',\n",
       "  'order': 7,\n",
       "  'physical-egress-port': {'port-id': '2', 'port-name': 's16-eth2'},\n",
       "  'physical-ingress-port': {'port-id': '1', 'port-name': 's16-eth1'}},\n",
       " {'node': 'openflow:17',\n",
       "  'order': 8,\n",
       "  'physical-egress-port': {'port-id': '2', 'port-name': 's17-eth2'},\n",
       "  'physical-ingress-port': {'port-id': '1', 'port-name': 's17-eth1'}}]"
      ]
     },
     "execution_count": 23,
     "metadata": {},
     "output_type": "execute_result"
    }
   ],
   "source": [
    "odl.get_dataflow(\"s17-eth2\",\"openflow:17\", \"square\")[0][\"physical-route\"]"
   ]
  },
  {
   "cell_type": "code",
   "execution_count": 104,
   "metadata": {},
   "outputs": [
    {
     "data": {
      "text/plain": [
       "{'output': {'status': 'CREATED'}}"
      ]
     },
     "execution_count": 104,
     "metadata": {},
     "output_type": "execute_result"
    }
   ],
   "source": [
    "odl.set_flow_cond(\"cond_1\", \"1\", \"10.0.0.1\", \"10.0.0.2\")"
   ]
  },
  {
   "cell_type": "code",
   "execution_count": 105,
   "metadata": {},
   "outputs": [
    {
     "data": {
      "text/plain": [
       "{'output': {'set-path-map-result': [{'index': 1, 'status': 'CREATED'}]}}"
      ]
     },
     "execution_count": 105,
     "metadata": {},
     "output_type": "execute_result"
    }
   ],
   "source": [
    "odl.set_path_map(\"cond_1\", \"1\", \"1\", \"vtn1\")"
   ]
  },
  {
   "cell_type": "code",
   "execution_count": 108,
   "metadata": {},
   "outputs": [
    {
     "data": {
      "text/plain": [
       "{'output': {'status': 'CREATED'}}"
      ]
     },
     "execution_count": 108,
     "metadata": {},
     "output_type": "execute_result"
    }
   ],
   "source": [
    "odl.set_path_policy({\"s1-eth3\": \"1000\", \"s4-eth2\": \"1000\", \"s3-eth3\": \"10000\"},\"1\", default_cost=\"10000\")"
   ]
  }
 ],
 "metadata": {
  "kernelspec": {
   "display_name": "Python 3",
   "language": "python",
   "name": "python3"
  },
  "language_info": {
   "codemirror_mode": {
    "name": "ipython",
    "version": 3
   },
   "file_extension": ".py",
   "mimetype": "text/x-python",
   "name": "python",
   "nbconvert_exporter": "python",
   "pygments_lexer": "ipython3",
   "version": "3.6.3"
  }
 },
 "nbformat": 4,
 "nbformat_minor": 2
}
